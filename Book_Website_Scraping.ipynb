{
 "cells": [
  {
   "cell_type": "markdown",
   "metadata": {},
   "source": [
    "Web Scraping of Book Scraping Website - "
   ]
  },
  {
   "cell_type": "code",
   "execution_count": 1,
   "metadata": {},
   "outputs": [],
   "source": [
    "import requests\n",
    "from bs4 import BeautifulSoup\n",
    "import pandas as pd\n",
    "import csv"
   ]
  },
  {
   "cell_type": "code",
   "execution_count": 2,
   "metadata": {},
   "outputs": [],
   "source": [
    "# Define the URL\n",
    "my_url = \"http://books.toscrape.com/catalogue/category/books_1/index.html\"\n",
    "\n",
    "# Set up a request with a user-agent header\n",
    "headers = {'User-Agent': 'Mozilla/5.0 (Windows NT 10.0; Win64; x64) AppleWebKit/537.36 (KHTML, like Gecko) Chrome/91.0.4472.124 Safari/537.36'}\n",
    "\n",
    "# Fetch the webpage\n",
    "response = requests.get(my_url, headers=headers)\n",
    "page_html = response.text"
   ]
  },
  {
   "cell_type": "code",
   "execution_count": 3,
   "metadata": {},
   "outputs": [
    {
     "name": "stdout",
     "output_type": "stream",
     "text": [
      "20\n"
     ]
    }
   ],
   "source": [
    "# Parse the HTML content with BeautifulSoup\n",
    "soup = BeautifulSoup(page_html, 'html.parser')\n",
    "\n",
    "# Find all the containers with the specific class\n",
    "containers = soup.findAll(\"article\", {\"class\": \"product_pod\"})\n",
    "\n",
    "print(len(containers))"
   ]
  },
  {
   "cell_type": "code",
   "execution_count": 4,
   "metadata": {},
   "outputs": [
    {
     "name": "stdout",
     "output_type": "stream",
     "text": [
      "A Light in the Attic,Â£51.77,In stock\n",
      "\n",
      "Tipping the Velvet,Â£53.74,In stock\n",
      "\n",
      "Soumission,Â£50.10,In stock\n",
      "\n",
      "Sharp Objects,Â£47.82,In stock\n",
      "\n",
      "Sapiens: A Brief History of Humankind,Â£54.23,In stock\n",
      "\n",
      "The Requiem Red,Â£22.65,In stock\n",
      "\n",
      "The Dirty Little Secrets of Getting Your Dream Job,Â£33.34,In stock\n",
      "\n",
      "The Coming Woman: A Novel Based on the Life of the Infamous Feminist, Victoria Woodhull,Â£17.93,In stock\n",
      "\n",
      "The Boys in the Boat: Nine Americans and Their Epic Quest for Gold at the 1936 Berlin Olympics,Â£22.60,In stock\n",
      "\n",
      "The Black Maria,Â£52.15,In stock\n",
      "\n",
      "Starving Hearts (Triangular Trade Trilogy, #1),Â£13.99,In stock\n",
      "\n",
      "Shakespeare's Sonnets,Â£20.66,In stock\n",
      "\n",
      "Set Me Free,Â£17.46,In stock\n",
      "\n",
      "Scott Pilgrim's Precious Little Life (Scott Pilgrim #1),Â£52.29,In stock\n",
      "\n",
      "Rip it Up and Start Again,Â£35.02,In stock\n",
      "\n",
      "Our Band Could Be Your Life: Scenes from the American Indie Underground, 1981-1991,Â£57.25,In stock\n",
      "\n",
      "Olio,Â£23.88,In stock\n",
      "\n",
      "Mesaerion: The Best Science Fiction Stories 1800-1849,Â£37.59,In stock\n",
      "\n",
      "Libertarianism for Beginners,Â£51.33,In stock\n",
      "\n",
      "It's Only the Himalayas,Â£45.17,In stock\n",
      "\n"
     ]
    }
   ],
   "source": [
    "# Open the CSV file for writing\n",
    "filename = \"book_scraping.csv\"\n",
    "with open(filename, \"w\", newline='', encoding='utf-8') as f:\n",
    "    writer = csv.writer(f)\n",
    "    \n",
    "    # Write the headers to the CSV file\n",
    "    headers = [\"Book_Title\", \"Book_Price\", \"Availability\"]\n",
    "    writer.writerow(headers)\n",
    "\n",
    "    # Loop through each container and extract the required information\n",
    "    for container in containers:\n",
    "        Book_Title = container.h3.a[\"title\"]\n",
    "        Book_Price = container.find(\"p\", {\"class\": \"price_color\"}).text.strip()\n",
    "        Availability = container.find(\"p\", {\"class\": \"instock availability\"}).text.strip()\n",
    "\n",
    "        # Print and write the data to the CSV file\n",
    "        print(Book_Title + \",\" + Book_Price + \",\" + Availability + \"\\n\")\n",
    "        writer.writerow([Book_Title, Book_Price, Availability])\n"
   ]
  },
  {
   "cell_type": "code",
   "execution_count": 5,
   "metadata": {},
   "outputs": [
    {
     "data": {
      "text/html": [
       "<div>\n",
       "<style scoped>\n",
       "    .dataframe tbody tr th:only-of-type {\n",
       "        vertical-align: middle;\n",
       "    }\n",
       "\n",
       "    .dataframe tbody tr th {\n",
       "        vertical-align: top;\n",
       "    }\n",
       "\n",
       "    .dataframe thead th {\n",
       "        text-align: right;\n",
       "    }\n",
       "</style>\n",
       "<table border=\"1\" class=\"dataframe\">\n",
       "  <thead>\n",
       "    <tr style=\"text-align: right;\">\n",
       "      <th></th>\n",
       "      <th>Book_Title</th>\n",
       "      <th>Book_Price</th>\n",
       "      <th>Availability</th>\n",
       "    </tr>\n",
       "  </thead>\n",
       "  <tbody>\n",
       "    <tr>\n",
       "      <th>0</th>\n",
       "      <td>A Light in the Attic</td>\n",
       "      <td>Â£51.77</td>\n",
       "      <td>In stock</td>\n",
       "    </tr>\n",
       "    <tr>\n",
       "      <th>1</th>\n",
       "      <td>Tipping the Velvet</td>\n",
       "      <td>Â£53.74</td>\n",
       "      <td>In stock</td>\n",
       "    </tr>\n",
       "    <tr>\n",
       "      <th>2</th>\n",
       "      <td>Soumission</td>\n",
       "      <td>Â£50.10</td>\n",
       "      <td>In stock</td>\n",
       "    </tr>\n",
       "    <tr>\n",
       "      <th>3</th>\n",
       "      <td>Sharp Objects</td>\n",
       "      <td>Â£47.82</td>\n",
       "      <td>In stock</td>\n",
       "    </tr>\n",
       "    <tr>\n",
       "      <th>4</th>\n",
       "      <td>Sapiens: A Brief History of Humankind</td>\n",
       "      <td>Â£54.23</td>\n",
       "      <td>In stock</td>\n",
       "    </tr>\n",
       "  </tbody>\n",
       "</table>\n",
       "</div>"
      ],
      "text/plain": [
       "                              Book_Title Book_Price Availability\n",
       "0                   A Light in the Attic    Â£51.77     In stock\n",
       "1                     Tipping the Velvet    Â£53.74     In stock\n",
       "2                             Soumission    Â£50.10     In stock\n",
       "3                          Sharp Objects    Â£47.82     In stock\n",
       "4  Sapiens: A Brief History of Humankind    Â£54.23     In stock"
      ]
     },
     "execution_count": 5,
     "metadata": {},
     "output_type": "execute_result"
    }
   ],
   "source": [
    "book_scrape = pd.read_csv('book_scraping.csv')\n",
    "book_scrape.head()"
   ]
  }
 ],
 "metadata": {
  "kernelspec": {
   "display_name": "base",
   "language": "python",
   "name": "python3"
  },
  "language_info": {
   "codemirror_mode": {
    "name": "ipython",
    "version": 3
   },
   "file_extension": ".py",
   "mimetype": "text/x-python",
   "name": "python",
   "nbconvert_exporter": "python",
   "pygments_lexer": "ipython3",
   "version": "3.11.7"
  }
 },
 "nbformat": 4,
 "nbformat_minor": 2
}
